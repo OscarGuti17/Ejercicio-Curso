{
  "nbformat": 4,
  "nbformat_minor": 0,
  "metadata": {
    "colab": {
      "provenance": [],
      "authorship_tag": "ABX9TyP1i1r7kn6dSpdVfO+G+rk0",
      "include_colab_link": true
    },
    "kernelspec": {
      "name": "python3",
      "display_name": "Python 3"
    },
    "language_info": {
      "name": "python"
    }
  },
  "cells": [
    {
      "cell_type": "markdown",
      "metadata": {
        "id": "view-in-github",
        "colab_type": "text"
      },
      "source": [
        "<a href=\"https://colab.research.google.com/github/OscarGuti17/Ejercicio-Curso/blob/main/panaderia.ipynb\" target=\"_parent\"><img src=\"https://colab.research.google.com/assets/colab-badge.svg\" alt=\"Open In Colab\"/></a>"
      ]
    },
    {
      "cell_type": "code",
      "source": [
        "import numpy as np\n"
      ],
      "metadata": {
        "id": "Rz3TWwN0Lr37"
      },
      "execution_count": null,
      "outputs": []
    },
    {
      "cell_type": "code",
      "execution_count": null,
      "metadata": {
        "id": "Q50IgWChquwC",
        "colab": {
          "base_uri": "https://localhost:8080/"
        },
        "outputId": "ffb7d2d0-d9a6-4cce-f532-933dd5d72d0f"
      },
      "outputs": [
        {
          "output_type": "execute_result",
          "data": {
            "text/plain": [
              "list"
            ]
          },
          "metadata": {},
          "execution_count": 5
        }
      ],
      "source": [
        "# Lista de precio de pasteles: Brownie, Galletas, Pastel\n",
        "\n",
        "price = [2,1,10]\n",
        "type(price)\n",
        "\n",
        "# Cantidades Vendidas\n",
        "quantity_sold = [17,40 ,1]\n",
        "type(quantity_sold)\n"
      ]
    },
    {
      "cell_type": "code",
      "source": [
        "# transformamos las lista en array con la biblioteca numpy\n",
        "# Ingresos por venta\n",
        "price_array = np.array(price)\n",
        "quantity_sold_array = np.array(quantity_sold)\n",
        "price_array*quantity_sold\n",
        "venta = sum(price_array*quantity_sold)\n",
        "print(price_array*quantity_sold)\n",
        "venta\n"
      ],
      "metadata": {
        "id": "u4RHoZNHs5hC",
        "colab": {
          "base_uri": "https://localhost:8080/"
        },
        "outputId": "cf356d6c-dbae-4011-ce36-0d27ebea5a7f"
      },
      "execution_count": null,
      "outputs": [
        {
          "output_type": "stream",
          "name": "stdout",
          "text": [
            "[34 40 10]\n"
          ]
        },
        {
          "output_type": "execute_result",
          "data": {
            "text/plain": [
              "84"
            ]
          },
          "metadata": {},
          "execution_count": 6
        }
      ]
    },
    {
      "cell_type": "code",
      "source": [
        "# Costo de Fabricacion\n",
        "cost_array= np.array([0.25,0.5,5.0])\n",
        "# Ganancia\n",
        "Profit_array = price_array-cost_array\n",
        "print(Profit_array)\n",
        "# Supongamos que quieren identificar qué elementos obtuvieron un beneficio superior a $2 por elemento.\n",
        "Profit_array>2"
      ],
      "metadata": {
        "colab": {
          "base_uri": "https://localhost:8080/"
        },
        "id": "Io3XzKiKMyqh",
        "outputId": "c6f2c5f3-595c-420c-ba3b-6b34c5d225f4"
      },
      "execution_count": null,
      "outputs": [
        {
          "output_type": "stream",
          "name": "stdout",
          "text": [
            "[1.75 0.5  5.  ]\n"
          ]
        },
        {
          "output_type": "execute_result",
          "data": {
            "text/plain": [
              "array([False, False,  True])"
            ]
          },
          "metadata": {},
          "execution_count": 7
        }
      ]
    },
    {
      "cell_type": "code",
      "source": [
        "#Esperen! ¡Este no es el resultado que queríamos! El array de NumPy hizo lo mejor que sabe hacer:\n",
        "# añadió un siete a *cada elemento* en el array.  Para regresar a los valores originales, restaremos 7,\n",
        "# luego usaremos la función np.append() para incluir el valor 7 como se desee.\n",
        "price_array = price_array + [7]\n",
        "print(price_array)\n",
        "price_array = price_array - [7]\n",
        "print(price_array)\n",
        "# Se agrega nuevo producto torta a precio de 7\n",
        "# Con la funcion np.append se agrega una elemento mas\n",
        "price_array = np.append(price_array, 7)\n",
        "print(price_array)"
      ],
      "metadata": {
        "colab": {
          "base_uri": "https://localhost:8080/"
        },
        "id": "zZtMics9Nn5P",
        "outputId": "2477dd49-3c79-4425-d07d-d72826127a96"
      },
      "execution_count": null,
      "outputs": [
        {
          "output_type": "stream",
          "name": "stdout",
          "text": [
            "[ 9  8 17]\n",
            "[ 2  1 10]\n",
            "[ 2  1 10  7]\n"
          ]
        }
      ]
    },
    {
      "cell_type": "code",
      "source": [
        "# Se agregar precios 4,50 dulces, 3 magdalena, 4 barra de pan de plátano y 9  torta\n",
        "price_array = np.append(price_array, [4.5,3,4,9])\n",
        "print(price_array)"
      ],
      "metadata": {
        "colab": {
          "base_uri": "https://localhost:8080/"
        },
        "id": "eM_xr9EINr7D",
        "outputId": "a40cc594-f2e2-495e-a5a3-ccd4f8e5f86c"
      },
      "execution_count": null,
      "outputs": [
        {
          "output_type": "stream",
          "name": "stdout",
          "text": [
            "[ 2.   1.  10.   7.   4.5  3.   4.   9. ]\n"
          ]
        }
      ]
    },
    {
      "cell_type": "code",
      "source": [
        "#Para comprobar el tipo de datos de los elementos del array, pueden utilizar lo siguiente:\n",
        "price_array.dtype"
      ],
      "metadata": {
        "colab": {
          "base_uri": "https://localhost:8080/"
        },
        "id": "NlDm3-AzN3NY",
        "outputId": "2761c336-7dbc-4cbd-a5ae-0ce73041b297"
      },
      "execution_count": null,
      "outputs": [
        {
          "output_type": "execute_result",
          "data": {
            "text/plain": [
              "dtype('float64')"
            ]
          },
          "metadata": {},
          "execution_count": 10
        }
      ]
    },
    {
      "cell_type": "code",
      "source": [
        "# eliminar el elemento en el índice 7\n",
        "# recuerden usar indexación cero, o como es el último elemento\n",
        "# podemos ir por la derecha y utilizar el elemento -1.\n",
        "price_array = np.delete(price_array,-1)\n",
        "print(price_array)"
      ],
      "metadata": {
        "colab": {
          "base_uri": "https://localhost:8080/"
        },
        "id": "f-U43JTBN8DZ",
        "outputId": "edc6adae-93c0-44f4-c3db-da114453e13f"
      },
      "execution_count": null,
      "outputs": [
        {
          "output_type": "stream",
          "name": "stdout",
          "text": [
            "[ 2.   1.  10.   7.   4.5  3.   4. ]\n"
          ]
        }
      ]
    },
    {
      "cell_type": "code",
      "source": [
        "# Reemplazar\n",
        "# Después el club decide subir el precio de los pasteles de $10 a $12.\n",
        "# Nuevamente, tendremos que identificar el elemento usando el índice.\n",
        "# Los pasteles están en el índice 2.\n",
        "price_array[2] = 12\n",
        "print(price_array)"
      ],
      "metadata": {
        "colab": {
          "base_uri": "https://localhost:8080/"
        },
        "id": "20fGkhXyN_1P",
        "outputId": "af0d42f0-2fc3-4439-e2d8-3ee4f00b05c2"
      },
      "execution_count": null,
      "outputs": [
        {
          "output_type": "stream",
          "name": "stdout",
          "text": [
            "[ 2.   1.  12.   7.   4.5  3.   4. ]\n"
          ]
        }
      ]
    },
    {
      "cell_type": "code",
      "source": [
        "# Actualicen el quantity_sold_array para incluir la venta de 2 tartas,\n",
        "# 3 bandejas de dulces, 16 magdalenas y 5 panes de plátano.\n",
        "quantity_sold_array = np.array(quantity_sold)\n",
        "quantity_sold_array = np.append(quantity_sold,[2,3,16,5])\n",
        "quantity_sold_array\n",
        "# También se darán cuenta que una de las galletas que pensaron que se había vendido en realidad se cayó al suelo,\n",
        "# así que editen quantity_sold_array de 40 a 39\n",
        "quantity_sold_array [1]= 39\n",
        "# ingreso por venta\n",
        "quantity_sold_array*price_array\n"
      ],
      "metadata": {
        "colab": {
          "base_uri": "https://localhost:8080/"
        },
        "id": "7rjEJhNtOCsA",
        "outputId": "ea78d949-5322-4847-8d55-58abc80096a2"
      },
      "execution_count": null,
      "outputs": [
        {
          "output_type": "execute_result",
          "data": {
            "text/plain": [
              "array([34. , 39. , 12. , 14. , 13.5, 48. , 20. ])"
            ]
          },
          "metadata": {},
          "execution_count": 13
        }
      ]
    },
    {
      "cell_type": "code",
      "source": [
        "# reen un array de NumPy \"quantity_leftover\" que incluya la cantidad de cada elemento\n",
        "# restante al final de la venta: 2 pasteles, 1 tarta, 6 bandejas de dulces, 2 panes de plátano.\n",
        "# Pista: Asegúrense de incluir “0” de cada elemento que se haya vendido.\n",
        "# ¿Por qué esto es importante cuando se crea un array?\n",
        "quantity_leftover= [0,0,2,1,6,0,2]\n",
        "quantity_leftover_array = np.array(quantity_leftover)\n",
        "quantity_leftover_array\n",
        "# el Club vende a mitar de precios los salos\n",
        "venta_liq = sum(quantity_leftover_array*price_array)\n",
        "venta_liq = venta_liq/2\n",
        "venta_liq"
      ],
      "metadata": {
        "colab": {
          "base_uri": "https://localhost:8080/"
        },
        "id": "x4eW-ZSkOJhg",
        "outputId": "de465925-f700-4f05-f581-5d21ddca6940"
      },
      "execution_count": null,
      "outputs": [
        {
          "output_type": "execute_result",
          "data": {
            "text/plain": [
              "33.0"
            ]
          },
          "metadata": {},
          "execution_count": 14
        }
      ]
    },
    {
      "cell_type": "code",
      "source": [
        "# ingreso totales\n",
        "venta_normal = sum(price_array * quantity_sold_array)\n",
        "venta_normal\n",
        "ingreso_tot = venta_normal.sum()+venta_liq.sum()\n",
        "ingreso_tot"
      ],
      "metadata": {
        "colab": {
          "base_uri": "https://localhost:8080/"
        },
        "id": "pbpHaRF0ONCO",
        "outputId": "d9950244-6152-4f83-a79a-3bf1f9b1bda9"
      },
      "execution_count": null,
      "outputs": [
        {
          "output_type": "execute_result",
          "data": {
            "text/plain": [
              "213.5"
            ]
          },
          "metadata": {},
          "execution_count": 15
        }
      ]
    },
    {
      "cell_type": "markdown",
      "source": [],
      "metadata": {
        "id": "9pZVlYzns7zr"
      }
    }
  ]
}