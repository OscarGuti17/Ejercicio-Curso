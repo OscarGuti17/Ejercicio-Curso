{
  "nbformat": 4,
  "nbformat_minor": 0,
  "metadata": {
    "colab": {
      "provenance": [],
      "authorship_tag": "ABX9TyNo74epp8Jmrp0dDWezlT0j",
      "include_colab_link": true
    },
    "kernelspec": {
      "name": "python3",
      "display_name": "Python 3"
    },
    "language_info": {
      "name": "python"
    }
  },
  "cells": [
    {
      "cell_type": "markdown",
      "metadata": {
        "id": "view-in-github",
        "colab_type": "text"
      },
      "source": [
        "<a href=\"https://colab.research.google.com/github/OscarGuti17/Ejercicio-Curso/blob/main/Ejercicio_de_c%C3%A1lculo_del_pago_de_la_hipoteca_(pr%C3%A1ctica).ipynb\" target=\"_parent\"><img src=\"https://colab.research.google.com/assets/colab-badge.svg\" alt=\"Open In Colab\"/></a>"
      ]
    },
    {
      "cell_type": "markdown",
      "source": [
        "Ejercicio de cálculo del pago de la hipoteca (práctica)"
      ],
      "metadata": {
        "id": "MXb7_Rca_AWJ"
      }
    },
    {
      "cell_type": "code",
      "source": [
        "años = 360\n",
        "interes = 0.03\n",
        "capital = 400000\n",
        "\n",
        "print(capital*(interes(1+interes)**años)/(1+interes)**años-1))"
      ],
      "metadata": {
        "colab": {
          "base_uri": "https://localhost:8080/",
          "height": 106
        },
        "id": "kQbUQlTL_CVX",
        "outputId": "083c999c-738b-4be4-df6e-4cd49cb36942"
      },
      "execution_count": null,
      "outputs": [
        {
          "output_type": "error",
          "ename": "SyntaxError",
          "evalue": "unmatched ')' (<ipython-input-21-2370a19363a6>, line 5)",
          "traceback": [
            "\u001b[0;36m  File \u001b[0;32m\"<ipython-input-21-2370a19363a6>\"\u001b[0;36m, line \u001b[0;32m5\u001b[0m\n\u001b[0;31m    print(capital*(interes(1+interes)**años)/(1+interes)**años-1))\u001b[0m\n\u001b[0m                                                                 ^\u001b[0m\n\u001b[0;31mSyntaxError\u001b[0m\u001b[0;31m:\u001b[0m unmatched ')'\n"
          ]
        }
      ]
    },
    {
      "cell_type": "code",
      "source": [],
      "metadata": {
        "id": "Vl7jqxRAYEB3"
      },
      "execution_count": null,
      "outputs": []
    }
  ]
}