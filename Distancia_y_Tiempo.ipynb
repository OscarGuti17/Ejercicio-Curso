{
  "nbformat": 4,
  "nbformat_minor": 0,
  "metadata": {
    "colab": {
      "provenance": [],
      "authorship_tag": "ABX9TyOqBQjUQAgO8PnRIRfRAfMO",
      "include_colab_link": true
    },
    "kernelspec": {
      "name": "python3",
      "display_name": "Python 3"
    },
    "language_info": {
      "name": "python"
    }
  },
  "cells": [
    {
      "cell_type": "markdown",
      "metadata": {
        "id": "view-in-github",
        "colab_type": "text"
      },
      "source": [
        "<a href=\"https://colab.research.google.com/github/OscarGuti17/Ejercicio-Curso/blob/main/Distancia_y_Tiempo.ipynb\" target=\"_parent\"><img src=\"https://colab.research.google.com/assets/colab-badge.svg\" alt=\"Open In Colab\"/></a>"
      ]
    },
    {
      "cell_type": "code",
      "execution_count": 1,
      "metadata": {
        "colab": {
          "base_uri": "https://localhost:8080/"
        },
        "id": "R-JJ2Cmwj0Dl",
        "outputId": "1eba22ba-0852-4a5f-92ab-3c52822bb59a"
      },
      "outputs": [
        {
          "output_type": "execute_result",
          "data": {
            "text/plain": [
              "array([  100,   200,   400,   800,  1500,  3000,  5000, 10000])"
            ]
          },
          "metadata": {},
          "execution_count": 1
        }
      ],
      "source": [
        "import numpy as np\n",
        "\n",
        "\n",
        "distance = [100,200,400,800,1500,3000,5000,10000]\n",
        "type(distance)\n",
        "distance_array = np.array(distance)\n",
        "distance_array"
      ]
    },
    {
      "cell_type": "code",
      "source": [
        "A= np.min(distance_array)\n",
        "print(A)\n",
        "B= np.max(distance_array)\n",
        "print(B)"
      ],
      "metadata": {
        "colab": {
          "base_uri": "https://localhost:8080/"
        },
        "id": "LXynsCfUkUGW",
        "outputId": "bf2847ef-8874-44af-caf7-f61c2f78efe0"
      },
      "execution_count": 2,
      "outputs": [
        {
          "output_type": "stream",
          "name": "stdout",
          "text": [
            "100\n",
            "10000\n"
          ]
        }
      ]
    },
    {
      "cell_type": "code",
      "source": [
        "np.mean(distance_array)"
      ],
      "metadata": {
        "colab": {
          "base_uri": "https://localhost:8080/"
        },
        "id": "YLYs8YLIkXh1",
        "outputId": "4cc2d68f-444e-47e0-e9e9-7f064ebb998f"
      },
      "execution_count": 3,
      "outputs": [
        {
          "output_type": "execute_result",
          "data": {
            "text/plain": [
              "2625.0"
            ]
          },
          "metadata": {},
          "execution_count": 3
        }
      ]
    },
    {
      "cell_type": "code",
      "source": [
        "np.sum(distance_array)"
      ],
      "metadata": {
        "colab": {
          "base_uri": "https://localhost:8080/"
        },
        "id": "MFWxuh0tkd_9",
        "outputId": "ad316237-2986-429c-812a-b7574ccd6f42"
      },
      "execution_count": 4,
      "outputs": [
        {
          "output_type": "execute_result",
          "data": {
            "text/plain": [
              "21000"
            ]
          },
          "metadata": {},
          "execution_count": 4
        }
      ]
    },
    {
      "cell_type": "code",
      "source": [
        "np.cumsum(distance_array)"
      ],
      "metadata": {
        "colab": {
          "base_uri": "https://localhost:8080/"
        },
        "id": "hoMyLA52khIc",
        "outputId": "74737ff2-47fa-4919-92cb-d6f443580b5c"
      },
      "execution_count": 5,
      "outputs": [
        {
          "output_type": "execute_result",
          "data": {
            "text/plain": [
              "array([  100,   300,   700,  1500,  3000,  6000, 11000, 21000])"
            ]
          },
          "metadata": {},
          "execution_count": 5
        }
      ]
    },
    {
      "cell_type": "code",
      "source": [
        "np.round(distance_array)"
      ],
      "metadata": {
        "colab": {
          "base_uri": "https://localhost:8080/"
        },
        "id": "ZGq0TzrskkOd",
        "outputId": "89c7f6c3-037c-49dd-e575-b420cc899096"
      },
      "execution_count": 6,
      "outputs": [
        {
          "output_type": "execute_result",
          "data": {
            "text/plain": [
              "array([  100,   200,   400,   800,  1500,  3000,  5000, 10000])"
            ]
          },
          "metadata": {},
          "execution_count": 6
        }
      ]
    },
    {
      "cell_type": "code",
      "source": [
        "time = [10.62, 21.34, 48.25, 113.43, 233.96, 506.53, 866.17, 1757.45]\n",
        "tiempo_array =np.array(time)\n",
        "tiempo_array"
      ],
      "metadata": {
        "colab": {
          "base_uri": "https://localhost:8080/"
        },
        "id": "xIfzMELZknaE",
        "outputId": "8e129511-e016-401b-d25e-130bcad31684"
      },
      "execution_count": 7,
      "outputs": [
        {
          "output_type": "execute_result",
          "data": {
            "text/plain": [
              "array([  10.62,   21.34,   48.25,  113.43,  233.96,  506.53,  866.17,\n",
              "       1757.45])"
            ]
          },
          "metadata": {},
          "execution_count": 7
        }
      ]
    },
    {
      "cell_type": "code",
      "source": [
        "distance_array.dtype\n",
        "tiempo_array.dtype\n",
        "metros_xseg = distance_array / tiempo_array\n",
        "metros_xseg"
      ],
      "metadata": {
        "colab": {
          "base_uri": "https://localhost:8080/"
        },
        "id": "I6dkNZwfkqq2",
        "outputId": "c55d326f-9923-4acc-b6cc-ec7adb9681cf"
      },
      "execution_count": 8,
      "outputs": [
        {
          "output_type": "execute_result",
          "data": {
            "text/plain": [
              "array([9.41619586, 9.37207123, 8.29015544, 7.0528079 , 6.41135237,\n",
              "       5.92265019, 5.77253888, 5.69006231])"
            ]
          },
          "metadata": {},
          "execution_count": 8
        }
      ]
    },
    {
      "cell_type": "code",
      "source": [
        "distance_array\n",
        "distance_millas = distance_array\n",
        "distance_millas\n",
        "convert_mill = 0.00062\n",
        "n = 0\n",
        "for n in range(len(distance_array)):\n",
        "      distance_millas[n] =distance_array[n]*convert_mill\n",
        "distance_array"
      ],
      "metadata": {
        "colab": {
          "base_uri": "https://localhost:8080/"
        },
        "id": "b1s400poktv1",
        "outputId": "25e98e78-6e70-476a-8adb-50c881b7f861"
      },
      "execution_count": 9,
      "outputs": [
        {
          "output_type": "execute_result",
          "data": {
            "text/plain": [
              "array([0, 0, 0, 0, 0, 1, 3, 6])"
            ]
          },
          "metadata": {},
          "execution_count": 9
        }
      ]
    },
    {
      "cell_type": "code",
      "source": [
        "# Arreglo de tiempo\n",
        "tiempo_array\n",
        "tiempo_horas = tiempo_array\n",
        "M = 0\n",
        "for m in range(len(tiempo_horas)):\n",
        "      tiempo_horas[m] = tiempo_horas[m]*3600\n",
        "tiempo_horas\n",
        "millas_per_hora = distance_millas / tiempo_horas\n",
        "millas_per_hora"
      ],
      "metadata": {
        "colab": {
          "base_uri": "https://localhost:8080/"
        },
        "id": "SldazByKkyMI",
        "outputId": "1b314f2e-11b7-4d2e-f8ae-07d5e92197af"
      },
      "execution_count": 10,
      "outputs": [
        {
          "output_type": "execute_result",
          "data": {
            "text/plain": [
              "array([0.00000000e+00, 0.00000000e+00, 0.00000000e+00, 0.00000000e+00,\n",
              "       0.00000000e+00, 5.48393536e-07, 9.62089813e-07, 9.48343718e-07])"
            ]
          },
          "metadata": {},
          "execution_count": 10
        }
      ]
    }
  ]
}